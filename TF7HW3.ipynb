{
 "cells": [
  {
   "cell_type": "code",
   "execution_count": 18,
   "id": "6655eb26",
   "metadata": {},
   "outputs": [],
   "source": [
    "import numpy as np\n",
    "from tensorflow.keras.datasets import cifar10 as data\n",
    "from tensorflow.keras.models import Sequential\n",
    "from tensorflow.keras.layers import Dense, Conv2D, MaxPooling2D, Flatten\n",
    "from tensorflow.keras.layers import LeakyReLU\n",
    "from tensorflow.keras.utils import to_categorical\n",
    "import matplotlib.pyplot as plt\n",
    "import random"
   ]
  },
  {
   "cell_type": "code",
   "execution_count": 25,
   "id": "8f551e13",
   "metadata": {
    "scrolled": false
   },
   "outputs": [
    {
     "name": "stdout",
     "output_type": "stream",
     "text": [
      "Model: \"sequential_5\"\n",
      "_________________________________________________________________\n",
      "Layer (type)                 Output Shape              Param #   \n",
      "=================================================================\n",
      "conv2d_56 (Conv2D)           (None, 32, 32, 64)        1792      \n",
      "_________________________________________________________________\n",
      "conv2d_57 (Conv2D)           (None, 32, 32, 64)        36928     \n",
      "_________________________________________________________________\n",
      "max_pooling2d_17 (MaxPooling (None, 16, 16, 64)        0         \n",
      "_________________________________________________________________\n",
      "conv2d_58 (Conv2D)           (None, 16, 16, 128)       73856     \n",
      "_________________________________________________________________\n",
      "conv2d_59 (Conv2D)           (None, 16, 16, 128)       147584    \n",
      "_________________________________________________________________\n",
      "max_pooling2d_18 (MaxPooling (None, 8, 8, 128)         0         \n",
      "_________________________________________________________________\n",
      "conv2d_60 (Conv2D)           (None, 8, 8, 256)         295168    \n",
      "_________________________________________________________________\n",
      "conv2d_61 (Conv2D)           (None, 8, 8, 256)         590080    \n",
      "_________________________________________________________________\n",
      "conv2d_62 (Conv2D)           (None, 8, 8, 256)         590080    \n",
      "_________________________________________________________________\n",
      "max_pooling2d_19 (MaxPooling (None, 4, 4, 256)         0         \n",
      "_________________________________________________________________\n",
      "conv2d_63 (Conv2D)           (None, 4, 4, 512)         1180160   \n",
      "_________________________________________________________________\n",
      "conv2d_64 (Conv2D)           (None, 4, 4, 512)         2359808   \n",
      "_________________________________________________________________\n",
      "conv2d_65 (Conv2D)           (None, 4, 4, 512)         2359808   \n",
      "_________________________________________________________________\n",
      "flatten_5 (Flatten)          (None, 8192)              0         \n",
      "_________________________________________________________________\n",
      "dense_11 (Dense)             (None, 128)               1048704   \n",
      "_________________________________________________________________\n",
      "dense_12 (Dense)             (None, 10)                1290      \n",
      "=================================================================\n",
      "Total params: 8,685,258\n",
      "Trainable params: 8,685,258\n",
      "Non-trainable params: 0\n",
      "_________________________________________________________________\n"
     ]
    }
   ],
   "source": [
    "cnn = Sequential()\n",
    "Lalpha=0.25\n",
    "cnn.add(Conv2D(64, (3, 3), padding = 'same', activation = LeakyReLU(alpha=Lalpha), input_shape = (32,32,3)))\n",
    "cnn.add(Conv2D(64, (3, 3), padding = 'same', activation = LeakyReLU(alpha=Lalpha)))\n",
    "cnn.add(MaxPooling2D(2,2))\n",
    "cnn.add(Conv2D(128, (3, 3), padding = 'same', activation = LeakyReLU(alpha=Lalpha)))\n",
    "cnn.add(Conv2D(128, (3, 3), padding = 'same', activation = LeakyReLU(alpha=Lalpha)))\n",
    "cnn.add(MaxPooling2D(2,2))\n",
    "cnn.add(Conv2D(256, (3, 3), padding = 'same', activation = LeakyReLU(alpha=Lalpha)))\n",
    "cnn.add(Conv2D(256, (3, 3), padding = 'same', activation = LeakyReLU(alpha=Lalpha)))\n",
    "cnn.add(Conv2D(256, (3, 3), padding = 'same', activation = LeakyReLU(alpha=Lalpha)))\n",
    "cnn.add(MaxPooling2D(2,2))\n",
    "cnn.add(Conv2D(512, (3, 3), padding = 'same', activation = LeakyReLU(alpha=Lalpha)))\n",
    "cnn.add(Conv2D(512, (3, 3), padding = 'same', activation = LeakyReLU(alpha=Lalpha)))\n",
    "cnn.add(Conv2D(512, (3, 3), padding = 'same', activation = LeakyReLU(alpha=Lalpha)))\n",
    "\n",
    "cnn.add(Flatten())\n",
    "cnn.add(Dense(128, activation = 'relu'))\n",
    "cnn.add(Dense(10, activation = 'softmax'))\n",
    "cnn.compile(optimizer = 'adam',\n",
    "            loss = 'categorical_crossentropy',\n",
    "            metrics = ['accuracy'])\n",
    "cnn.summary()"
   ]
  },
  {
   "cell_type": "code",
   "execution_count": 26,
   "id": "95bb586c",
   "metadata": {},
   "outputs": [
    {
     "name": "stdout",
     "output_type": "stream",
     "text": [
      "500\n",
      "mo\n"
     ]
    }
   ],
   "source": [
    "(X_train, Y_train), (X_test, Y_test) = data.load_data()\n",
    "\n",
    "num = int(round(len(X_train)*0.99))\n",
    "\n",
    "train_image = X_train[:num].reshape(-1,32,32,3)\n",
    "train_image = train_image.astype('float32') / 255 - 0.5\n",
    "\n",
    "valid_image = X_train[num:].reshape(-1,32,32,3)\n",
    "valid_image = valid_image.astype('float32') / 255 - 0.5\n",
    "\n",
    "test_image = X_test.reshape(-1,32,32,3)\n",
    "test_image = test_image.astype('float32') / 255 - 0.5\n",
    "\n",
    "train_label = to_categorical(Y_train[:num])\n",
    "valid_label = to_categorical(Y_train[num:])\n",
    "test_label  = to_categorical(Y_test)\n",
    "\n",
    "print(len(valid_image))\n",
    "print(\"mo\")"
   ]
  },
  {
   "cell_type": "code",
   "execution_count": null,
   "id": "f54da5c0",
   "metadata": {
    "scrolled": true
   },
   "outputs": [
    {
     "name": "stdout",
     "output_type": "stream",
     "text": [
      "Epoch 1/20\n",
      "25/25 [==============================] - 6s 251ms/step - loss: 2.3496 - accuracy: 0.1239 - val_loss: 2.2741 - val_accuracy: 0.1160\n",
      "Epoch 2/20\n",
      "25/25 [==============================] - 6s 253ms/step - loss: 2.1204 - accuracy: 0.1857 - val_loss: 1.9838 - val_accuracy: 0.2360\n",
      "Epoch 3/20\n",
      "25/25 [==============================] - 6s 251ms/step - loss: 1.9573 - accuracy: 0.2487 - val_loss: 1.9063 - val_accuracy: 0.2600\n",
      "Epoch 4/20\n",
      "25/25 [==============================] - 6s 251ms/step - loss: 1.7580 - accuracy: 0.3161 - val_loss: 1.6884 - val_accuracy: 0.3680\n",
      "Epoch 5/20\n",
      "25/25 [==============================] - 6s 252ms/step - loss: 1.5919 - accuracy: 0.4026 - val_loss: 1.7058 - val_accuracy: 0.3960\n",
      "Epoch 6/20\n",
      "18/25 [====================>.........] - ETA: 1s - loss: 1.5038 - accuracy: 0.4426"
     ]
    }
   ],
   "source": [
    "history = cnn.fit(train_image, train_label, epochs=20, batch_size = 2048, validation_data =(valid_image, valid_label), shuffle = 'True')"
   ]
  },
  {
   "cell_type": "code",
   "execution_count": null,
   "id": "40b46e89",
   "metadata": {
    "scrolled": true
   },
   "outputs": [],
   "source": [
    "test_loss, test_acc = cnn.evaluate(test_image, test_label)\n",
    "print('test_acc: {acc}'.format(acc=test_acc))"
   ]
  },
  {
   "cell_type": "code",
   "execution_count": null,
   "id": "63c73fa1",
   "metadata": {
    "scrolled": true
   },
   "outputs": [],
   "source": [
    "plt.figure(figsize=(10,10))\n",
    "plt.subplots_adjust(left=0.125,\n",
    "                    bottom=0.1,\n",
    "                    right=0.9,\n",
    "                    top=0.9,\n",
    "                    wspace=0.2,\n",
    "                    hspace=0.35)\n",
    "#\n",
    "plt.subplot(2,1,1)\n",
    "plt.plot(history.history['accuracy'])\n",
    "plt.plot(history.history['val_accuracy'])\n",
    "plt.xticks(fontsize=15)\n",
    "plt.yticks(fontsize=15)\n",
    "plt.title(\"cnn_model\", fontsize=20)\n",
    "plt.xlabel(\"epochs\", fontsize=20)\n",
    "plt.ylabel(\"accuracy\", fontsize=20)\n",
    "plt.legend(['accuracy', 'val_accuracy'], fontsize=15)\n",
    "#\n",
    "plt.subplot(2,1,2)\n",
    "plt.plot(history.history['loss'])\n",
    "plt.title(\"cnn_model\", fontsize=20)\n",
    "plt.xlabel(\"epochs\", fontsize=20)\n",
    "plt.ylabel(\"loss\", fontsize=20)\n",
    "plt.legend(['loss'], fontsize=15)\n",
    "plt.xticks(fontsize=15)\n",
    "plt.yticks(fontsize=15)\n",
    "plt.show()"
   ]
  },
  {
   "cell_type": "code",
   "execution_count": null,
   "id": "4073291c",
   "metadata": {},
   "outputs": [],
   "source": []
  },
  {
   "cell_type": "code",
   "execution_count": null,
   "id": "661bcd25",
   "metadata": {},
   "outputs": [],
   "source": [
    "predict_test = cnn.predict(test_image)\n",
    "prediction = np.argmax(predict_test, axis=1)\n",
    "index = ['airplane', 'automobile', 'bird', 'cat', 'deer', 'dog', 'frog', 'horse', 'ship', 'truck']\n",
    "plt.figure(figsize=(15,15))\n",
    "for i in range(9):\n",
    "    plt.subplot(3, 3, i+1)\n",
    "    n = random.randint(0,10000)\n",
    "    pred = index[prediction[n]]\n",
    "    GroundTruth = index[int(np.array(Y_test)[n])]\n",
    "    plt.imshow(X_test[n], cmap= plt.cm.binary)\n",
    "    plt.xticks([])\n",
    "    plt.yticks([])\n",
    "    plt.xlabel('predict:{a}\\nTrue:{b}'.format(a=pred,b=GroundTruth ), fontsize=20)\n",
    "plt.show()"
   ]
  },
  {
   "cell_type": "code",
   "execution_count": null,
   "id": "73be604d",
   "metadata": {},
   "outputs": [],
   "source": []
  },
  {
   "cell_type": "code",
   "execution_count": null,
   "id": "0f29a0e9",
   "metadata": {},
   "outputs": [],
   "source": []
  },
  {
   "cell_type": "code",
   "execution_count": null,
   "id": "63b00587",
   "metadata": {},
   "outputs": [],
   "source": []
  },
  {
   "cell_type": "code",
   "execution_count": null,
   "id": "18782fbc",
   "metadata": {},
   "outputs": [],
   "source": []
  },
  {
   "cell_type": "code",
   "execution_count": null,
   "id": "097e8327",
   "metadata": {},
   "outputs": [],
   "source": []
  },
  {
   "cell_type": "code",
   "execution_count": null,
   "id": "d748583c",
   "metadata": {},
   "outputs": [],
   "source": []
  },
  {
   "cell_type": "code",
   "execution_count": null,
   "id": "a102e930",
   "metadata": {},
   "outputs": [],
   "source": []
  },
  {
   "cell_type": "code",
   "execution_count": null,
   "id": "a4c3ff69",
   "metadata": {},
   "outputs": [],
   "source": []
  },
  {
   "cell_type": "code",
   "execution_count": null,
   "id": "6a69ef29",
   "metadata": {},
   "outputs": [],
   "source": []
  },
  {
   "cell_type": "code",
   "execution_count": null,
   "id": "92e8c887",
   "metadata": {},
   "outputs": [],
   "source": []
  }
 ],
 "metadata": {
  "kernelspec": {
   "display_name": "Python 3",
   "language": "python",
   "name": "python3"
  },
  "language_info": {
   "codemirror_mode": {
    "name": "ipython",
    "version": 3
   },
   "file_extension": ".py",
   "mimetype": "text/x-python",
   "name": "python",
   "nbconvert_exporter": "python",
   "pygments_lexer": "ipython3",
   "version": "3.7.10"
  }
 },
 "nbformat": 4,
 "nbformat_minor": 5
}
